{
 "cells": [
  {
   "cell_type": "code",
   "execution_count": 1,
   "id": "4f7a70f5",
   "metadata": {
    "_cell_guid": "b1076dfc-b9ad-4769-8c92-a6c4dae69d19",
    "_uuid": "8f2839f25d086af736a60e9eeb907d3b93b6e0e5",
    "execution": {
     "iopub.execute_input": "2021-11-06T08:17:53.125823Z",
     "iopub.status.busy": "2021-11-06T08:17:53.124262Z",
     "iopub.status.idle": "2021-11-06T08:17:53.143412Z",
     "shell.execute_reply": "2021-11-06T08:17:53.144038Z",
     "shell.execute_reply.started": "2021-11-06T07:06:40.728053Z"
    },
    "papermill": {
     "duration": 0.041003,
     "end_time": "2021-11-06T08:17:53.144312",
     "exception": false,
     "start_time": "2021-11-06T08:17:53.103309",
     "status": "completed"
    },
    "tags": []
   },
   "outputs": [
    {
     "name": "stdout",
     "output_type": "stream",
     "text": [
      "/kaggle/input/fashionmnist/t10k-labels-idx1-ubyte\n",
      "/kaggle/input/fashionmnist/t10k-images-idx3-ubyte\n",
      "/kaggle/input/fashionmnist/fashion-mnist_test.csv\n",
      "/kaggle/input/fashionmnist/fashion-mnist_train.csv\n",
      "/kaggle/input/fashionmnist/train-labels-idx1-ubyte\n",
      "/kaggle/input/fashionmnist/train-images-idx3-ubyte\n"
     ]
    }
   ],
   "source": [
    "# This Python 3 environment comes with many helpful analytics libraries installed\n",
    "# It is defined by the kaggle/python Docker image: https://github.com/kaggle/docker-python\n",
    "# For example, here's several helpful packages to load\n",
    "\n",
    "import numpy as np # linear algebra\n",
    "import pandas as pd # data processing, CSV file I/O (e.g. pd.read_csv)\n",
    "\n",
    "# Input data files are available in the read-only \"../input/\" directory\n",
    "# For example, running this (by clicking run or pressing Shift+Enter) will list all files under the input directory\n",
    "\n",
    "import os\n",
    "for dirname, _, filenames in os.walk('/kaggle/input'):\n",
    "    for filename in filenames:\n",
    "        print(os.path.join(dirname, filename))\n",
    "\n",
    "# You can write up to 20GB to the current directory (/kaggle/working/) that gets preserved as output when you create a version using \"Save & Run All\" \n",
    "# You can also write temporary files to /kaggle/temp/, but they won't be saved outside of the current session"
   ]
  },
  {
   "attachments": {},
   "cell_type": "markdown",
   "id": "bb47338b",
   "metadata": {
    "papermill": {
     "duration": 0.014406,
     "end_time": "2021-11-06T08:17:53.175764",
     "exception": false,
     "start_time": "2021-11-06T08:17:53.161358",
     "status": "completed"
    },
    "tags": []
   },
   "source": [
    "## **CREATING CNN MODEL AND TUNING WITH RANDOMSEARCH:**"
   ]
  },
  {
   "attachments": {},
   "cell_type": "markdown",
   "id": "84f8e99e",
   "metadata": {
    "papermill": {
     "duration": 0.014027,
     "end_time": "2021-11-06T08:17:53.203954",
     "exception": false,
     "start_time": "2021-11-06T08:17:53.189927",
     "status": "completed"
    },
    "tags": []
   },
   "source": [
    "### **Importing Libraries:**"
   ]
  },
  {
   "cell_type": "code",
   "execution_count": 2,
   "id": "40ba9191",
   "metadata": {
    "execution": {
     "iopub.execute_input": "2021-11-06T08:17:53.236702Z",
     "iopub.status.busy": "2021-11-06T08:17:53.236096Z",
     "iopub.status.idle": "2021-11-06T08:17:58.735992Z",
     "shell.execute_reply": "2021-11-06T08:17:58.735421Z",
     "shell.execute_reply.started": "2021-11-06T07:06:45.531244Z"
    },
    "papermill": {
     "duration": 5.518121,
     "end_time": "2021-11-06T08:17:58.736141",
     "exception": false,
     "start_time": "2021-11-06T08:17:53.218020",
     "status": "completed"
    },
    "tags": []
   },
   "outputs": [],
   "source": [
    "# import necessary packages\n",
    "import numpy as np\n",
    "import pandas as pd\n",
    "import matplotlib.pyplot as plt\n",
    "import tensorflow as tf\n",
    "from tensorflow import keras\n",
    "from keras import Sequential\n",
    "from keras.layers import Dense, Conv2D, Flatten, MaxPooling2D\n",
    "from keras_tuner import RandomSearch"
   ]
  },
  {
   "attachments": {},
   "cell_type": "markdown",
   "id": "4e4124ff",
   "metadata": {
    "papermill": {
     "duration": 0.014572,
     "end_time": "2021-11-06T08:17:58.765795",
     "exception": false,
     "start_time": "2021-11-06T08:17:58.751223",
     "status": "completed"
    },
    "tags": []
   },
   "source": [
    "#### **Load the Dataset:**"
   ]
  },
  {
   "cell_type": "code",
   "execution_count": 3,
   "id": "32f5d948",
   "metadata": {
    "execution": {
     "iopub.execute_input": "2021-11-06T08:17:58.799323Z",
     "iopub.status.busy": "2021-11-06T08:17:58.798764Z",
     "iopub.status.idle": "2021-11-06T08:18:04.843570Z",
     "shell.execute_reply": "2021-11-06T08:18:04.843075Z",
     "shell.execute_reply.started": "2021-11-06T07:37:03.879088Z"
    },
    "papermill": {
     "duration": 6.063208,
     "end_time": "2021-11-06T08:18:04.843703",
     "exception": false,
     "start_time": "2021-11-06T08:17:58.780495",
     "status": "completed"
    },
    "tags": []
   },
   "outputs": [],
   "source": [
    "# importing dataset\n",
    "X_train = pd.read_csv(\"/kaggle/input/fashionmnist/fashion-mnist_train.csv\")\n",
    "X_test = pd.read_csv(\"/kaggle/input/fashionmnist/fashion-mnist_test.csv\")"
   ]
  },
  {
   "cell_type": "code",
   "execution_count": 4,
   "id": "ca1c24aa",
   "metadata": {
    "execution": {
     "iopub.execute_input": "2021-11-06T08:18:04.882706Z",
     "iopub.status.busy": "2021-11-06T08:18:04.881806Z",
     "iopub.status.idle": "2021-11-06T08:18:04.897906Z",
     "shell.execute_reply": "2021-11-06T08:18:04.898392Z",
     "shell.execute_reply.started": "2021-11-06T07:37:08.708805Z"
    },
    "papermill": {
     "duration": 0.040162,
     "end_time": "2021-11-06T08:18:04.898530",
     "exception": false,
     "start_time": "2021-11-06T08:18:04.858368",
     "status": "completed"
    },
    "tags": []
   },
   "outputs": [
    {
     "data": {
      "text/html": [
       "<div>\n",
       "<style scoped>\n",
       "    .dataframe tbody tr th:only-of-type {\n",
       "        vertical-align: middle;\n",
       "    }\n",
       "\n",
       "    .dataframe tbody tr th {\n",
       "        vertical-align: top;\n",
       "    }\n",
       "\n",
       "    .dataframe thead th {\n",
       "        text-align: right;\n",
       "    }\n",
       "</style>\n",
       "<table border=\"1\" class=\"dataframe\">\n",
       "  <thead>\n",
       "    <tr style=\"text-align: right;\">\n",
       "      <th></th>\n",
       "      <th>label</th>\n",
       "      <th>pixel1</th>\n",
       "      <th>pixel2</th>\n",
       "      <th>pixel3</th>\n",
       "      <th>pixel4</th>\n",
       "      <th>pixel5</th>\n",
       "      <th>pixel6</th>\n",
       "      <th>pixel7</th>\n",
       "      <th>pixel8</th>\n",
       "      <th>pixel9</th>\n",
       "      <th>...</th>\n",
       "      <th>pixel775</th>\n",
       "      <th>pixel776</th>\n",
       "      <th>pixel777</th>\n",
       "      <th>pixel778</th>\n",
       "      <th>pixel779</th>\n",
       "      <th>pixel780</th>\n",
       "      <th>pixel781</th>\n",
       "      <th>pixel782</th>\n",
       "      <th>pixel783</th>\n",
       "      <th>pixel784</th>\n",
       "    </tr>\n",
       "  </thead>\n",
       "  <tbody>\n",
       "    <tr>\n",
       "      <th>0</th>\n",
       "      <td>2</td>\n",
       "      <td>0</td>\n",
       "      <td>0</td>\n",
       "      <td>0</td>\n",
       "      <td>0</td>\n",
       "      <td>0</td>\n",
       "      <td>0</td>\n",
       "      <td>0</td>\n",
       "      <td>0</td>\n",
       "      <td>0</td>\n",
       "      <td>...</td>\n",
       "      <td>0</td>\n",
       "      <td>0</td>\n",
       "      <td>0</td>\n",
       "      <td>0</td>\n",
       "      <td>0</td>\n",
       "      <td>0</td>\n",
       "      <td>0</td>\n",
       "      <td>0</td>\n",
       "      <td>0</td>\n",
       "      <td>0</td>\n",
       "    </tr>\n",
       "    <tr>\n",
       "      <th>1</th>\n",
       "      <td>9</td>\n",
       "      <td>0</td>\n",
       "      <td>0</td>\n",
       "      <td>0</td>\n",
       "      <td>0</td>\n",
       "      <td>0</td>\n",
       "      <td>0</td>\n",
       "      <td>0</td>\n",
       "      <td>0</td>\n",
       "      <td>0</td>\n",
       "      <td>...</td>\n",
       "      <td>0</td>\n",
       "      <td>0</td>\n",
       "      <td>0</td>\n",
       "      <td>0</td>\n",
       "      <td>0</td>\n",
       "      <td>0</td>\n",
       "      <td>0</td>\n",
       "      <td>0</td>\n",
       "      <td>0</td>\n",
       "      <td>0</td>\n",
       "    </tr>\n",
       "    <tr>\n",
       "      <th>2</th>\n",
       "      <td>6</td>\n",
       "      <td>0</td>\n",
       "      <td>0</td>\n",
       "      <td>0</td>\n",
       "      <td>0</td>\n",
       "      <td>0</td>\n",
       "      <td>0</td>\n",
       "      <td>0</td>\n",
       "      <td>5</td>\n",
       "      <td>0</td>\n",
       "      <td>...</td>\n",
       "      <td>0</td>\n",
       "      <td>0</td>\n",
       "      <td>0</td>\n",
       "      <td>30</td>\n",
       "      <td>43</td>\n",
       "      <td>0</td>\n",
       "      <td>0</td>\n",
       "      <td>0</td>\n",
       "      <td>0</td>\n",
       "      <td>0</td>\n",
       "    </tr>\n",
       "    <tr>\n",
       "      <th>3</th>\n",
       "      <td>0</td>\n",
       "      <td>0</td>\n",
       "      <td>0</td>\n",
       "      <td>0</td>\n",
       "      <td>1</td>\n",
       "      <td>2</td>\n",
       "      <td>0</td>\n",
       "      <td>0</td>\n",
       "      <td>0</td>\n",
       "      <td>0</td>\n",
       "      <td>...</td>\n",
       "      <td>3</td>\n",
       "      <td>0</td>\n",
       "      <td>0</td>\n",
       "      <td>0</td>\n",
       "      <td>0</td>\n",
       "      <td>1</td>\n",
       "      <td>0</td>\n",
       "      <td>0</td>\n",
       "      <td>0</td>\n",
       "      <td>0</td>\n",
       "    </tr>\n",
       "    <tr>\n",
       "      <th>4</th>\n",
       "      <td>3</td>\n",
       "      <td>0</td>\n",
       "      <td>0</td>\n",
       "      <td>0</td>\n",
       "      <td>0</td>\n",
       "      <td>0</td>\n",
       "      <td>0</td>\n",
       "      <td>0</td>\n",
       "      <td>0</td>\n",
       "      <td>0</td>\n",
       "      <td>...</td>\n",
       "      <td>0</td>\n",
       "      <td>0</td>\n",
       "      <td>0</td>\n",
       "      <td>0</td>\n",
       "      <td>0</td>\n",
       "      <td>0</td>\n",
       "      <td>0</td>\n",
       "      <td>0</td>\n",
       "      <td>0</td>\n",
       "      <td>0</td>\n",
       "    </tr>\n",
       "  </tbody>\n",
       "</table>\n",
       "<p>5 rows × 785 columns</p>\n",
       "</div>"
      ],
      "text/plain": [
       "   label  pixel1  pixel2  pixel3  pixel4  pixel5  pixel6  pixel7  pixel8  \\\n",
       "0      2       0       0       0       0       0       0       0       0   \n",
       "1      9       0       0       0       0       0       0       0       0   \n",
       "2      6       0       0       0       0       0       0       0       5   \n",
       "3      0       0       0       0       1       2       0       0       0   \n",
       "4      3       0       0       0       0       0       0       0       0   \n",
       "\n",
       "   pixel9  ...  pixel775  pixel776  pixel777  pixel778  pixel779  pixel780  \\\n",
       "0       0  ...         0         0         0         0         0         0   \n",
       "1       0  ...         0         0         0         0         0         0   \n",
       "2       0  ...         0         0         0        30        43         0   \n",
       "3       0  ...         3         0         0         0         0         1   \n",
       "4       0  ...         0         0         0         0         0         0   \n",
       "\n",
       "   pixel781  pixel782  pixel783  pixel784  \n",
       "0         0         0         0         0  \n",
       "1         0         0         0         0  \n",
       "2         0         0         0         0  \n",
       "3         0         0         0         0  \n",
       "4         0         0         0         0  \n",
       "\n",
       "[5 rows x 785 columns]"
      ]
     },
     "execution_count": 4,
     "metadata": {},
     "output_type": "execute_result"
    }
   ],
   "source": [
    "# train dataset\n",
    "X_train.head()"
   ]
  },
  {
   "cell_type": "code",
   "execution_count": 5,
   "id": "8956d1e6",
   "metadata": {
    "execution": {
     "iopub.execute_input": "2021-11-06T08:18:04.942706Z",
     "iopub.status.busy": "2021-11-06T08:18:04.941824Z",
     "iopub.status.idle": "2021-11-06T08:18:04.945019Z",
     "shell.execute_reply": "2021-11-06T08:18:04.945425Z",
     "shell.execute_reply.started": "2021-11-06T07:37:08.727826Z"
    },
    "papermill": {
     "duration": 0.031995,
     "end_time": "2021-11-06T08:18:04.945540",
     "exception": false,
     "start_time": "2021-11-06T08:18:04.913545",
     "status": "completed"
    },
    "tags": []
   },
   "outputs": [
    {
     "data": {
      "text/html": [
       "<div>\n",
       "<style scoped>\n",
       "    .dataframe tbody tr th:only-of-type {\n",
       "        vertical-align: middle;\n",
       "    }\n",
       "\n",
       "    .dataframe tbody tr th {\n",
       "        vertical-align: top;\n",
       "    }\n",
       "\n",
       "    .dataframe thead th {\n",
       "        text-align: right;\n",
       "    }\n",
       "</style>\n",
       "<table border=\"1\" class=\"dataframe\">\n",
       "  <thead>\n",
       "    <tr style=\"text-align: right;\">\n",
       "      <th></th>\n",
       "      <th>label</th>\n",
       "      <th>pixel1</th>\n",
       "      <th>pixel2</th>\n",
       "      <th>pixel3</th>\n",
       "      <th>pixel4</th>\n",
       "      <th>pixel5</th>\n",
       "      <th>pixel6</th>\n",
       "      <th>pixel7</th>\n",
       "      <th>pixel8</th>\n",
       "      <th>pixel9</th>\n",
       "      <th>...</th>\n",
       "      <th>pixel775</th>\n",
       "      <th>pixel776</th>\n",
       "      <th>pixel777</th>\n",
       "      <th>pixel778</th>\n",
       "      <th>pixel779</th>\n",
       "      <th>pixel780</th>\n",
       "      <th>pixel781</th>\n",
       "      <th>pixel782</th>\n",
       "      <th>pixel783</th>\n",
       "      <th>pixel784</th>\n",
       "    </tr>\n",
       "  </thead>\n",
       "  <tbody>\n",
       "    <tr>\n",
       "      <th>0</th>\n",
       "      <td>0</td>\n",
       "      <td>0</td>\n",
       "      <td>0</td>\n",
       "      <td>0</td>\n",
       "      <td>0</td>\n",
       "      <td>0</td>\n",
       "      <td>0</td>\n",
       "      <td>0</td>\n",
       "      <td>9</td>\n",
       "      <td>8</td>\n",
       "      <td>...</td>\n",
       "      <td>103</td>\n",
       "      <td>87</td>\n",
       "      <td>56</td>\n",
       "      <td>0</td>\n",
       "      <td>0</td>\n",
       "      <td>0</td>\n",
       "      <td>0</td>\n",
       "      <td>0</td>\n",
       "      <td>0</td>\n",
       "      <td>0</td>\n",
       "    </tr>\n",
       "    <tr>\n",
       "      <th>1</th>\n",
       "      <td>1</td>\n",
       "      <td>0</td>\n",
       "      <td>0</td>\n",
       "      <td>0</td>\n",
       "      <td>0</td>\n",
       "      <td>0</td>\n",
       "      <td>0</td>\n",
       "      <td>0</td>\n",
       "      <td>0</td>\n",
       "      <td>0</td>\n",
       "      <td>...</td>\n",
       "      <td>34</td>\n",
       "      <td>0</td>\n",
       "      <td>0</td>\n",
       "      <td>0</td>\n",
       "      <td>0</td>\n",
       "      <td>0</td>\n",
       "      <td>0</td>\n",
       "      <td>0</td>\n",
       "      <td>0</td>\n",
       "      <td>0</td>\n",
       "    </tr>\n",
       "    <tr>\n",
       "      <th>2</th>\n",
       "      <td>2</td>\n",
       "      <td>0</td>\n",
       "      <td>0</td>\n",
       "      <td>0</td>\n",
       "      <td>0</td>\n",
       "      <td>0</td>\n",
       "      <td>0</td>\n",
       "      <td>14</td>\n",
       "      <td>53</td>\n",
       "      <td>99</td>\n",
       "      <td>...</td>\n",
       "      <td>0</td>\n",
       "      <td>0</td>\n",
       "      <td>0</td>\n",
       "      <td>0</td>\n",
       "      <td>63</td>\n",
       "      <td>53</td>\n",
       "      <td>31</td>\n",
       "      <td>0</td>\n",
       "      <td>0</td>\n",
       "      <td>0</td>\n",
       "    </tr>\n",
       "    <tr>\n",
       "      <th>3</th>\n",
       "      <td>2</td>\n",
       "      <td>0</td>\n",
       "      <td>0</td>\n",
       "      <td>0</td>\n",
       "      <td>0</td>\n",
       "      <td>0</td>\n",
       "      <td>0</td>\n",
       "      <td>0</td>\n",
       "      <td>0</td>\n",
       "      <td>0</td>\n",
       "      <td>...</td>\n",
       "      <td>137</td>\n",
       "      <td>126</td>\n",
       "      <td>140</td>\n",
       "      <td>0</td>\n",
       "      <td>133</td>\n",
       "      <td>224</td>\n",
       "      <td>222</td>\n",
       "      <td>56</td>\n",
       "      <td>0</td>\n",
       "      <td>0</td>\n",
       "    </tr>\n",
       "    <tr>\n",
       "      <th>4</th>\n",
       "      <td>3</td>\n",
       "      <td>0</td>\n",
       "      <td>0</td>\n",
       "      <td>0</td>\n",
       "      <td>0</td>\n",
       "      <td>0</td>\n",
       "      <td>0</td>\n",
       "      <td>0</td>\n",
       "      <td>0</td>\n",
       "      <td>0</td>\n",
       "      <td>...</td>\n",
       "      <td>0</td>\n",
       "      <td>0</td>\n",
       "      <td>0</td>\n",
       "      <td>0</td>\n",
       "      <td>0</td>\n",
       "      <td>0</td>\n",
       "      <td>0</td>\n",
       "      <td>0</td>\n",
       "      <td>0</td>\n",
       "      <td>0</td>\n",
       "    </tr>\n",
       "  </tbody>\n",
       "</table>\n",
       "<p>5 rows × 785 columns</p>\n",
       "</div>"
      ],
      "text/plain": [
       "   label  pixel1  pixel2  pixel3  pixel4  pixel5  pixel6  pixel7  pixel8  \\\n",
       "0      0       0       0       0       0       0       0       0       9   \n",
       "1      1       0       0       0       0       0       0       0       0   \n",
       "2      2       0       0       0       0       0       0      14      53   \n",
       "3      2       0       0       0       0       0       0       0       0   \n",
       "4      3       0       0       0       0       0       0       0       0   \n",
       "\n",
       "   pixel9  ...  pixel775  pixel776  pixel777  pixel778  pixel779  pixel780  \\\n",
       "0       8  ...       103        87        56         0         0         0   \n",
       "1       0  ...        34         0         0         0         0         0   \n",
       "2      99  ...         0         0         0         0        63        53   \n",
       "3       0  ...       137       126       140         0       133       224   \n",
       "4       0  ...         0         0         0         0         0         0   \n",
       "\n",
       "   pixel781  pixel782  pixel783  pixel784  \n",
       "0         0         0         0         0  \n",
       "1         0         0         0         0  \n",
       "2        31         0         0         0  \n",
       "3       222        56         0         0  \n",
       "4         0         0         0         0  \n",
       "\n",
       "[5 rows x 785 columns]"
      ]
     },
     "execution_count": 5,
     "metadata": {},
     "output_type": "execute_result"
    }
   ],
   "source": [
    "# test dataset\n",
    "X_test.head()"
   ]
  },
  {
   "cell_type": "code",
   "execution_count": 6,
   "id": "8885546b",
   "metadata": {
    "execution": {
     "iopub.execute_input": "2021-11-06T08:18:05.117161Z",
     "iopub.status.busy": "2021-11-06T08:18:04.982378Z",
     "iopub.status.idle": "2021-11-06T08:18:05.120344Z",
     "shell.execute_reply": "2021-11-06T08:18:05.119862Z",
     "shell.execute_reply.started": "2021-11-06T07:37:08.748153Z"
    },
    "papermill": {
     "duration": 0.159379,
     "end_time": "2021-11-06T08:18:05.120492",
     "exception": false,
     "start_time": "2021-11-06T08:18:04.961113",
     "status": "completed"
    },
    "tags": []
   },
   "outputs": [],
   "source": [
    "# split the dataset\n",
    "y_train = X_train[\"label\"]\n",
    "X_train = X_train.drop(columns=\"label\")\n",
    "\n",
    "y_test = X_test['label']\n",
    "X_test = X_test.drop(columns=\"label\")"
   ]
  },
  {
   "attachments": {},
   "cell_type": "markdown",
   "id": "6e2dec24",
   "metadata": {
    "papermill": {
     "duration": 0.015304,
     "end_time": "2021-11-06T08:18:05.151890",
     "exception": false,
     "start_time": "2021-11-06T08:18:05.136586",
     "status": "completed"
    },
    "tags": []
   },
   "source": [
    "#### **Each training and test example is assigned to one of the following labels:**\n",
    "    0 T-shirt/top\n",
    "    1 Trouser\n",
    "    2 Pullover\n",
    "    3 Dress\n",
    "    4 Coat\n",
    "    5 Sandal\n",
    "    6 Shirt\n",
    "    7 Sneaker\n",
    "    8 Bag\n",
    "    9 Ankle boot"
   ]
  },
  {
   "attachments": {},
   "cell_type": "markdown",
   "id": "44e71675",
   "metadata": {
    "papermill": {
     "duration": 0.014908,
     "end_time": "2021-11-06T08:18:05.181992",
     "exception": false,
     "start_time": "2021-11-06T08:18:05.167084",
     "status": "completed"
    },
    "tags": []
   },
   "source": [
    "### **Preprocessing:**"
   ]
  },
  {
   "cell_type": "code",
   "execution_count": 7,
   "id": "7d3bfdd5",
   "metadata": {
    "execution": {
     "iopub.execute_input": "2021-11-06T08:18:05.218120Z",
     "iopub.status.busy": "2021-11-06T08:18:05.217194Z",
     "iopub.status.idle": "2021-11-06T08:18:05.447394Z",
     "shell.execute_reply": "2021-11-06T08:18:05.446772Z",
     "shell.execute_reply.started": "2021-11-06T07:44:01.173434Z"
    },
    "papermill": {
     "duration": 0.250528,
     "end_time": "2021-11-06T08:18:05.447525",
     "exception": false,
     "start_time": "2021-11-06T08:18:05.196997",
     "status": "completed"
    },
    "tags": []
   },
   "outputs": [],
   "source": [
    "# convert image into numpy array as type of float 32\n",
    "X_train = np.array(X_train, dtype=\"float32\")   \n",
    "X_test = np.array(X_test, dtype=\"float32\")\n",
    "\n",
    "# preprocessing image by dividing into 255.0 value\n",
    "X_train = X_train/255.0      \n",
    "X_test = X_test/255.0\n",
    "\n",
    "# reshape the train & test dataset\n",
    "X_train = X_train.reshape(len(X_train), 28, 28, 1)\n",
    "X_test = X_test.reshape(len(X_test), 28, 28, 1)"
   ]
  },
  {
   "attachments": {},
   "cell_type": "markdown",
   "id": "3c12d28f",
   "metadata": {
    "papermill": {
     "duration": 0.015319,
     "end_time": "2021-11-06T08:18:05.478291",
     "exception": false,
     "start_time": "2021-11-06T08:18:05.462972",
     "status": "completed"
    },
    "tags": []
   },
   "source": [
    "### **Model Building:**"
   ]
  },
  {
   "cell_type": "code",
   "execution_count": 8,
   "id": "d8b02880",
   "metadata": {
    "execution": {
     "iopub.execute_input": "2021-11-06T08:18:05.518701Z",
     "iopub.status.busy": "2021-11-06T08:18:05.517123Z",
     "iopub.status.idle": "2021-11-06T08:18:05.519317Z",
     "shell.execute_reply": "2021-11-06T08:18:05.519709Z",
     "shell.execute_reply.started": "2021-11-06T07:44:02.347365Z"
    },
    "papermill": {
     "duration": 0.026606,
     "end_time": "2021-11-06T08:18:05.519858",
     "exception": false,
     "start_time": "2021-11-06T08:18:05.493252",
     "status": "completed"
    },
    "tags": []
   },
   "outputs": [],
   "source": [
    "# create a function for Model building\n",
    "def create_model(hp):\n",
    "  # initializing the model\n",
    "    model = Sequential(\n",
    "      # Creating 1st Conv2D layer\n",
    "      [Conv2D(filters=hp.Int(\"conv_1_filter\", min_value=16, max_value=128, step=16),\n",
    "              kernel_size=hp.Choice(\"conv_1_kernel\", values=[3,5]),\n",
    "              activation='relu',\n",
    "              kernel_initializer='he_normal',\n",
    "              input_shape=(28, 28, 1)),\n",
    "      \n",
    "      # Creating 2nd Conv2D layer\n",
    "      Conv2D(filters=hp.Int(\"conv_2_filter\", min_value=16, max_value=128, step=16),\n",
    "             kernel_initializer='he_normal',\n",
    "             kernel_size=hp.Choice(\"conv_2_kernel\", values=[3,5]),\n",
    "             activation='relu',\n",
    "             input_shape=(28, 28, 1)),\n",
    "\n",
    "      # Adding maxpooling layer to get max value within a matrix\n",
    "      MaxPooling2D(pool_size=(2,2)),\n",
    "\n",
    "      # Adding Flatten layer \n",
    "      Flatten(),\n",
    "\n",
    "      # Creating 1st hidden layer \n",
    "      Dense(units=hp.Int(\"layer_1_units\", min_value=32, max_value=512, step=32),\n",
    "            activation='relu',\n",
    "            kernel_initializer='he_normal'),\n",
    "      \n",
    "      # Creating output layer\n",
    "       Dense(units=10, activation='softmax')\n",
    "       ])\n",
    "  \n",
    "    # Finaly compile the model...\n",
    "    model.compile(optimizer=keras.optimizers.Adam(hp.Choice('learning_rate', values=[1e-2, 1e-3, 1e-4])),\n",
    "              loss='sparse_categorical_crossentropy',\n",
    "              metrics=['accuracy'])\n",
    "  \n",
    "    return model\n"
   ]
  },
  {
   "attachments": {},
   "cell_type": "markdown",
   "id": "dd7f686f",
   "metadata": {
    "papermill": {
     "duration": 0.014885,
     "end_time": "2021-11-06T08:18:05.549944",
     "exception": false,
     "start_time": "2021-11-06T08:18:05.535059",
     "status": "completed"
    },
    "tags": []
   },
   "source": [
    "### **Tuning CNN Model with RandomSearch:**"
   ]
  },
  {
   "cell_type": "code",
   "execution_count": 9,
   "id": "196631fc",
   "metadata": {
    "execution": {
     "iopub.execute_input": "2021-11-06T08:18:05.584213Z",
     "iopub.status.busy": "2021-11-06T08:18:05.583528Z",
     "iopub.status.idle": "2021-11-06T08:21:37.678408Z",
     "shell.execute_reply": "2021-11-06T08:21:37.679228Z",
     "shell.execute_reply.started": "2021-11-06T07:44:03.287390Z"
    },
    "papermill": {
     "duration": 212.114541,
     "end_time": "2021-11-06T08:21:37.679524",
     "exception": false,
     "start_time": "2021-11-06T08:18:05.564983",
     "status": "completed"
    },
    "tags": []
   },
   "outputs": [
    {
     "name": "stdout",
     "output_type": "stream",
     "text": [
      "Trial 5 Complete [00h 00m 41s]\n",
      "val_accuracy: 0.9225000143051147\n",
      "\n",
      "Best val_accuracy So Far: 0.9225000143051147\n",
      "Total elapsed time: 00h 03m 29s\n"
     ]
    }
   ],
   "source": [
    "# using RandomSearch from kera tuner library\n",
    "tuner = RandomSearch(create_model, objective='val_accuracy', max_trials=5, directory='log', project_name='CNN')\n",
    "# search the best model by fitting the dataset\n",
    "tuner.search(X_train, y_train, epochs=5, validation_split=0.1)"
   ]
  },
  {
   "cell_type": "code",
   "execution_count": 10,
   "id": "1f7be486",
   "metadata": {
    "execution": {
     "iopub.execute_input": "2021-11-06T08:21:37.878516Z",
     "iopub.status.busy": "2021-11-06T08:21:37.877611Z",
     "iopub.status.idle": "2021-11-06T08:21:37.971583Z",
     "shell.execute_reply": "2021-11-06T08:21:37.971112Z",
     "shell.execute_reply.started": "2021-11-06T07:48:07.081197Z"
    },
    "papermill": {
     "duration": 0.274006,
     "end_time": "2021-11-06T08:21:37.971712",
     "exception": false,
     "start_time": "2021-11-06T08:21:37.697706",
     "status": "completed"
    },
    "tags": []
   },
   "outputs": [],
   "source": [
    "# creating a varible to store best model\n",
    "model = tuner.get_best_models(num_models=1)[0]   "
   ]
  },
  {
   "cell_type": "code",
   "execution_count": 11,
   "id": "b7531feb",
   "metadata": {
    "execution": {
     "iopub.execute_input": "2021-11-06T08:21:38.010490Z",
     "iopub.status.busy": "2021-11-06T08:21:38.009137Z",
     "iopub.status.idle": "2021-11-06T08:21:38.016566Z",
     "shell.execute_reply": "2021-11-06T08:21:38.015953Z",
     "shell.execute_reply.started": "2021-11-06T07:48:12.081245Z"
    },
    "papermill": {
     "duration": 0.029071,
     "end_time": "2021-11-06T08:21:38.016709",
     "exception": false,
     "start_time": "2021-11-06T08:21:37.987638",
     "status": "completed"
    },
    "tags": []
   },
   "outputs": [
    {
     "name": "stdout",
     "output_type": "stream",
     "text": [
      "Model: \"sequential\"\n",
      "_________________________________________________________________\n",
      "Layer (type)                 Output Shape              Param #   \n",
      "=================================================================\n",
      "conv2d (Conv2D)              (None, 26, 26, 48)        480       \n",
      "_________________________________________________________________\n",
      "conv2d_1 (Conv2D)            (None, 22, 22, 80)        96080     \n",
      "_________________________________________________________________\n",
      "max_pooling2d (MaxPooling2D) (None, 11, 11, 80)        0         \n",
      "_________________________________________________________________\n",
      "flatten (Flatten)            (None, 9680)              0         \n",
      "_________________________________________________________________\n",
      "dense (Dense)                (None, 96)                929376    \n",
      "_________________________________________________________________\n",
      "dense_1 (Dense)              (None, 10)                970       \n",
      "=================================================================\n",
      "Total params: 1,026,906\n",
      "Trainable params: 1,026,906\n",
      "Non-trainable params: 0\n",
      "_________________________________________________________________\n"
     ]
    }
   ],
   "source": [
    "# summary of our model\n",
    "model.summary()"
   ]
  },
  {
   "attachments": {},
   "cell_type": "markdown",
   "id": "f4b2fd03",
   "metadata": {
    "papermill": {
     "duration": 0.015541,
     "end_time": "2021-11-06T08:21:38.048462",
     "exception": false,
     "start_time": "2021-11-06T08:21:38.032921",
     "status": "completed"
    },
    "tags": []
   },
   "source": [
    "### **Fit the Dataset with Best Model:**"
   ]
  },
  {
   "cell_type": "code",
   "execution_count": 12,
   "id": "e016d8a5",
   "metadata": {
    "execution": {
     "iopub.execute_input": "2021-11-06T08:21:38.085605Z",
     "iopub.status.busy": "2021-11-06T08:21:38.084701Z",
     "iopub.status.idle": "2021-11-06T08:22:36.097081Z",
     "shell.execute_reply": "2021-11-06T08:22:36.097645Z",
     "shell.execute_reply.started": "2021-11-06T07:48:19.032008Z"
    },
    "papermill": {
     "duration": 58.033767,
     "end_time": "2021-11-06T08:22:36.097904",
     "exception": false,
     "start_time": "2021-11-06T08:21:38.064137",
     "status": "completed"
    },
    "tags": []
   },
   "outputs": [
    {
     "name": "stdout",
     "output_type": "stream",
     "text": [
      "Epoch 1/10\n",
      "1313/1313 [==============================] - 6s 4ms/step - loss: 0.0789 - accuracy: 0.9710 - val_loss: 0.1655 - val_accuracy: 0.9478\n",
      "Epoch 2/10\n",
      "1313/1313 [==============================] - 6s 5ms/step - loss: 0.0580 - accuracy: 0.9789 - val_loss: 0.1720 - val_accuracy: 0.9496\n",
      "Epoch 3/10\n",
      "1313/1313 [==============================] - 6s 4ms/step - loss: 0.0455 - accuracy: 0.9830 - val_loss: 0.2048 - val_accuracy: 0.9441\n",
      "Epoch 4/10\n",
      "1313/1313 [==============================] - 6s 4ms/step - loss: 0.0359 - accuracy: 0.9875 - val_loss: 0.2220 - val_accuracy: 0.9398\n",
      "Epoch 5/10\n",
      "1313/1313 [==============================] - 5s 4ms/step - loss: 0.0318 - accuracy: 0.9890 - val_loss: 0.2617 - val_accuracy: 0.9403\n",
      "Epoch 6/10\n",
      "1313/1313 [==============================] - 6s 4ms/step - loss: 0.0287 - accuracy: 0.9898 - val_loss: 0.2905 - val_accuracy: 0.9367\n",
      "Epoch 7/10\n",
      "1313/1313 [==============================] - 5s 4ms/step - loss: 0.0256 - accuracy: 0.9910 - val_loss: 0.2892 - val_accuracy: 0.9405\n",
      "Epoch 8/10\n",
      "1313/1313 [==============================] - 6s 5ms/step - loss: 0.0211 - accuracy: 0.9928 - val_loss: 0.3081 - val_accuracy: 0.9361\n",
      "Epoch 9/10\n",
      "1313/1313 [==============================] - 5s 4ms/step - loss: 0.0190 - accuracy: 0.9937 - val_loss: 0.3380 - val_accuracy: 0.9368\n",
      "Epoch 10/10\n",
      "1313/1313 [==============================] - 6s 4ms/step - loss: 0.0195 - accuracy: 0.9936 - val_loss: 0.3788 - val_accuracy: 0.9300\n"
     ]
    }
   ],
   "source": [
    "# fitting the dataset with the tuned model and validating our model using test data\n",
    "Model = model.fit(X_train, y_train, epochs=10, validation_split=0.3, validation_data=(X_test, y_test))"
   ]
  },
  {
   "cell_type": "code",
   "execution_count": 13,
   "id": "54550b3a",
   "metadata": {
    "execution": {
     "iopub.execute_input": "2021-11-06T08:22:36.595366Z",
     "iopub.status.busy": "2021-11-06T08:22:36.594466Z",
     "iopub.status.idle": "2021-11-06T08:22:36.597794Z",
     "shell.execute_reply": "2021-11-06T08:22:36.597347Z",
     "shell.execute_reply.started": "2021-11-06T07:49:34.080594Z"
    },
    "papermill": {
     "duration": 0.253047,
     "end_time": "2021-11-06T08:22:36.597910",
     "exception": false,
     "start_time": "2021-11-06T08:22:36.344863",
     "status": "completed"
    },
    "tags": []
   },
   "outputs": [
    {
     "name": "stdout",
     "output_type": "stream",
     "text": [
      "dict_keys(['loss', 'accuracy', 'val_loss', 'val_accuracy'])\n"
     ]
    }
   ],
   "source": [
    "# getting history of our model in dictionary by getting keys... \n",
    "print(Model.history.keys())"
   ]
  },
  {
   "cell_type": "code",
   "execution_count": 14,
   "id": "6231b783",
   "metadata": {
    "execution": {
     "iopub.execute_input": "2021-11-06T08:22:37.114691Z",
     "iopub.status.busy": "2021-11-06T08:22:37.110422Z",
     "iopub.status.idle": "2021-11-06T08:22:37.344350Z",
     "shell.execute_reply": "2021-11-06T08:22:37.344880Z",
     "shell.execute_reply.started": "2021-11-06T07:49:37.958562Z"
    },
    "papermill": {
     "duration": 0.501342,
     "end_time": "2021-11-06T08:22:37.345038",
     "exception": false,
     "start_time": "2021-11-06T08:22:36.843696",
     "status": "completed"
    },
    "tags": []
   },
   "outputs": [
    {
     "data": {
      "image/png": "[encoded data removed]",
      "text/plain": [
       "<Figure size 1080x504 with 1 Axes>"
      ]
     },
     "metadata": {
      "needs_background": "light"
     },
     "output_type": "display_data"
    }
   ],
   "source": [
    "# Evaluating the model accuracy\n",
    "plt.figure(figsize=(15,7))\n",
    "plt.plot(Model.history['accuracy'])\n",
    "plt.plot(Model.history['val_accuracy'])\n",
    "plt.title(\"Model Accuracy\")\n",
    "plt.xlabel(\"Epochs\")\n",
    "plt.ylabel(\"Accuracy\")\n",
    "plt.legend(['training_accuracy', 'validation_accuracy'])\n",
    "plt.show()"
   ]
  },
  {
   "cell_type": "code",
   "execution_count": 15,
   "id": "f09539de",
   "metadata": {
    "execution": {
     "iopub.execute_input": "2021-11-06T08:22:37.876224Z",
     "iopub.status.busy": "2021-11-06T08:22:37.875051Z",
     "iopub.status.idle": "2021-11-06T08:22:38.087449Z",
     "shell.execute_reply": "2021-11-06T08:22:38.087861Z",
     "shell.execute_reply.started": "2021-11-06T07:49:46.296453Z"
    },
    "papermill": {
     "duration": 0.493742,
     "end_time": "2021-11-06T08:22:38.088018",
     "exception": false,
     "start_time": "2021-11-06T08:22:37.594276",
     "status": "completed"
    },
    "tags": []
   },
   "outputs": [
    {
     "data": {
      "image/png": "[encoded data removed]",
      "text/plain": [
       "<Figure size 1080x504 with 1 Axes>"
      ]
     },
     "metadata": {
      "needs_background": "light"
     },
     "output_type": "display_data"
    }
   ],
   "source": [
    "# Evaluating the Loss\n",
    "plt.figure(figsize=(15,7))\n",
    "plt.plot(Model.history['loss'])\n",
    "plt.plot(Model.history['val_loss'])\n",
    "plt.title(\"Model loss\")\n",
    "plt.xlabel(\"Epochs\")\n",
    "plt.ylabel(\"Loss\")\n",
    "plt.legend(['training_loss', 'validation_loss'])\n",
    "plt.show()"
   ]
  }
 ],
 "metadata": {
  "kernelspec": {
   "display_name": "Python 3",
   "language": "python",
   "name": "python3"
  },
  "language_info": {
   "codemirror_mode": {
    "name": "ipython",
    "version": 3
   },
   "file_extension": ".py",
   "mimetype": "text/x-python",
   "name": "python",
   "nbconvert_exporter": "python",
   "pygments_lexer": "ipython3",
   "version": "3.7.10"
  },
  "papermill": {
   "default_parameters": {},
   "duration": 295.401979,
   "end_time": "2021-11-06T08:22:41.437138",
   "environment_variables": {},
   "exception": null,
   "input_path": "__notebook__.ipynb",
   "output_path": "__notebook__.ipynb",
   "parameters": {},
   "start_time": "2021-11-06T08:17:46.035159",
   "version": "2.3.3"
  }
 },
 "nbformat": 4,
 "nbformat_minor": 5
}
